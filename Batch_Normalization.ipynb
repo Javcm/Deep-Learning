{
  "nbformat": 4,
  "nbformat_minor": 0,
  "metadata": {
    "kernelspec": {
      "display_name": "Python 3",
      "language": "python",
      "name": "python3"
    },
    "language_info": {
      "codemirror_mode": {
        "name": "ipython",
        "version": 3
      },
      "file_extension": ".py",
      "mimetype": "text/x-python",
      "name": "python",
      "nbconvert_exporter": "python",
      "pygments_lexer": "ipython3",
      "version": "3.8.5"
    },
    "latex_envs": {
      "LaTeX_envs_menu_present": true,
      "autoclose": false,
      "autocomplete": true,
      "bibliofile": "biblio.bib",
      "cite_by": "apalike",
      "current_citInitial": 1,
      "eqLabelWithNumbers": true,
      "eqNumInitial": 1,
      "hotkeys": {
        "equation": "Ctrl-E",
        "itemize": "Ctrl-I"
      },
      "labels_anchors": false,
      "latex_user_defs": false,
      "report_style_numbering": false,
      "user_envs_cfg": false
    },
    "toc": {
      "base_numbering": 1,
      "nav_menu": {},
      "number_sections": false,
      "sideBar": true,
      "skip_h1_title": false,
      "title_cell": "Table of Contents",
      "title_sidebar": "Contents",
      "toc_cell": false,
      "toc_position": {},
      "toc_section_display": true,
      "toc_window_display": false
    },
    "colab": {
      "name": "Batch Normalization.ipynb",
      "provenance": [],
      "collapsed_sections": [],
      "include_colab_link": true
    }
  },
  "cells": [
    {
      "cell_type": "markdown",
      "metadata": {
        "id": "view-in-github",
        "colab_type": "text"
      },
      "source": [
        "<a href=\"https://colab.research.google.com/github/Javcm/Deep-Learning/blob/main/Batch_Normalization.ipynb\" target=\"_parent\"><img src=\"https://colab.research.google.com/assets/colab-badge.svg\" alt=\"Open In Colab\"/></a>"
      ]
    },
    {
      "cell_type": "markdown",
      "metadata": {
        "id": "zjv06LcHpQxN"
      },
      "source": [
        "# <center>Batch Normalization <center>"
      ]
    },
    {
      "cell_type": "markdown",
      "metadata": {
        "id": "r9VnNZIvpQxO"
      },
      "source": [
        "Batch normalization es una técnica que nos permite reducir el impacto del  internal covariance shift que es el fenómeno mediante el cuál la distribución de los datos que entra a cada capa cambia en cada iteración del entrenamiento, de modo que  ligeramente distinta al de entrenamiento, de modo que el entrenamiento del modelo es tardado pues se debe usar un learning rate pequeño y es poco estable a la elección inicial de los parámetros [1].\n",
        "\n",
        "La estrategia que propone Batch normalization es realizar una normalización con los estimadores empíricos de varianza y media a los datos, en principio esto puede realizarse entre cada capa, pero la elección sobre el punto en que se hace esta transformación es parte de la construcción de la arquitectura de la red. \n",
        "\n",
        "\n",
        "Un par de ejemplos sobre el uso de esta técnica son:\n",
        "\n",
        "La arquitectura ResNet propuesta por Kaiming He, Xiangyu Zhang et al, investigadores de Microsoft Research,  es una red neuronal con un porcentaje de error de 3.47% clasificando imágenes de ImageNet, usa batch normalization después de cada capa de convolución [2].\n",
        "\n",
        "La arquitectura Inception-v3 propuesta por Christian Szegedy, Vincent Vanhoucke, et al, investigadores de Google Research, presentan su mejor desempeño al usar Batch normalization [3].\n",
        "\n",
        "\n",
        "## Referencias\n",
        "\n",
        "[1] Ioffe, S., & Szegedy, C. (2015). Batch normalization: Accelerating deep network training by reducing internal covariate shift. arXiv preprint arXiv:1502.03167.\n",
        "\n",
        "[2] He, K., Zhang, X., Ren, S., & Sun, J. (2016). Deep residual learning for image recognition. In Proceedings of the IEEE conference on computer vision and pattern recognition (pp. 770-778).\n",
        "\n",
        "[3] Szegedy, C., Vanhoucke, V., Ioffe, S., Shlens, J., & Wojna, Z. (2016). Rethinking the inception architecture for computer vision. In Proceedings of the IEEE conference on computer vision and pattern recognition (pp. 2818-2826).\n",
        "\n"
      ]
    },
    {
      "cell_type": "code",
      "metadata": {
        "id": "eLGfFnmWjBQn",
        "outputId": "a2cb075e-c3c2-44ca-b5c2-4c56eb705bfb",
        "colab": {
          "base_uri": "https://localhost:8080/"
        }
      },
      "source": [
        "import tensorflow as tf\n",
        "import pandas as pd\n",
        "import numpy as np\n",
        "import matplotlib.pyplot as plt\n",
        "from sklearn.datasets import load_iris\n",
        "from sklearn.model_selection import train_test_split\n",
        "import seaborn as snb; snb.set()\n",
        "iris = load_iris()\n",
        "df = pd.DataFrame(iris.data, columns=iris.feature_names).astype(float)\n",
        "df['label'] = iris.target\n",
        "df['label'] = df.label.replace(dict(enumerate(iris.target_names)))\n",
        "\n",
        "label = pd.get_dummies(df['label'], prefix='label')\n",
        "df = pd.concat([df, label], axis=1)\n",
        "df.drop(['label'], axis=1, inplace=True)\n",
        "\n",
        "X = np.asarray(df[['sepal length (cm)', 'sepal width (cm)', 'petal length (cm)', 'petal width (cm)']])\n",
        "y = np.asarray(df[['label_setosa', 'label_versicolor', 'label_virginica']])\n",
        "\n",
        "X_train, X_test, y_train, y_test = train_test_split(X,y,test_size=0.20)\n",
        "\n",
        "from tensorflow.keras.models import Sequential\n",
        "from tensorflow.keras.layers import Dense, BatchNormalization\n",
        "from tensorflow.keras.initializers import RandomNormal, Constant\n",
        "\n",
        "\n",
        "# Modelo sin batch normalization\n",
        "model = Sequential([\n",
        "    Dense(64, input_shape=(4,), activation=\"relu\"),\n",
        "    Dense(128, activation='relu'),\n",
        "    Dense(128, activation='relu'),\n",
        "    Dense(64, activation='relu'),\n",
        "    Dense(64, activation='relu'),\n",
        "    Dense(3, activation='softmax')\n",
        "]);\n",
        "\n",
        "model.summary()\n",
        "\n",
        "\n",
        "# Modelo con batch normalization entre cada capa\n",
        "model_bn = Sequential([\n",
        "    Dense(64, input_shape=(4,), activation=\"relu\"),\n",
        "    BatchNormalization(),\n",
        "    Dense(128, activation='relu'),\n",
        "    BatchNormalization(),\n",
        "    Dense(128, activation='relu'),\n",
        "    BatchNormalization(),\n",
        "    Dense(64, activation='relu'),\n",
        "    BatchNormalization(),\n",
        "    Dense(64, activation='relu'),\n",
        "    BatchNormalization(\n",
        "        momentum=0.95, \n",
        "        epsilon=0.005,\n",
        "        beta_initializer=RandomNormal(mean=0.0, stddev=0.05), \n",
        "        gamma_initializer=Constant(value=0.9)),\n",
        "    Dense(3, activation='softmax')]);\n",
        "model_bn.summary()"
      ],
      "execution_count": null,
      "outputs": [
        {
          "output_type": "stream",
          "text": [
            "Model: \"sequential_2\"\n",
            "_________________________________________________________________\n",
            "Layer (type)                 Output Shape              Param #   \n",
            "=================================================================\n",
            "dense_6 (Dense)              (None, 64)                320       \n",
            "_________________________________________________________________\n",
            "dense_7 (Dense)              (None, 128)               8320      \n",
            "_________________________________________________________________\n",
            "dense_8 (Dense)              (None, 128)               16512     \n",
            "_________________________________________________________________\n",
            "dense_9 (Dense)              (None, 64)                8256      \n",
            "_________________________________________________________________\n",
            "dense_10 (Dense)             (None, 64)                4160      \n",
            "_________________________________________________________________\n",
            "dense_11 (Dense)             (None, 3)                 195       \n",
            "=================================================================\n",
            "Total params: 37,763\n",
            "Trainable params: 37,763\n",
            "Non-trainable params: 0\n",
            "_________________________________________________________________\n",
            "Model: \"sequential_3\"\n",
            "_________________________________________________________________\n",
            "Layer (type)                 Output Shape              Param #   \n",
            "=================================================================\n",
            "dense_12 (Dense)             (None, 64)                320       \n",
            "_________________________________________________________________\n",
            "batch_normalization_304 (Bat (None, 64)                256       \n",
            "_________________________________________________________________\n",
            "dense_13 (Dense)             (None, 128)               8320      \n",
            "_________________________________________________________________\n",
            "batch_normalization_305 (Bat (None, 128)               512       \n",
            "_________________________________________________________________\n",
            "dense_14 (Dense)             (None, 128)               16512     \n",
            "_________________________________________________________________\n",
            "batch_normalization_306 (Bat (None, 128)               512       \n",
            "_________________________________________________________________\n",
            "dense_15 (Dense)             (None, 64)                8256      \n",
            "_________________________________________________________________\n",
            "batch_normalization_307 (Bat (None, 64)                256       \n",
            "_________________________________________________________________\n",
            "dense_16 (Dense)             (None, 64)                4160      \n",
            "_________________________________________________________________\n",
            "batch_normalization_308 (Bat (None, 64)                256       \n",
            "_________________________________________________________________\n",
            "dense_17 (Dense)             (None, 3)                 195       \n",
            "=================================================================\n",
            "Total params: 39,555\n",
            "Trainable params: 38,659\n",
            "Non-trainable params: 896\n",
            "_________________________________________________________________\n"
          ],
          "name": "stdout"
        }
      ]
    },
    {
      "cell_type": "code",
      "metadata": {
        "id": "DeZHdCZyk9XR",
        "outputId": "969bb0fa-c12e-4c73-ada5-8ce42d257f42",
        "colab": {
          "base_uri": "https://localhost:8080/",
          "height": 401
        }
      },
      "source": [
        "from tensorflow.keras.callbacks import EarlyStopping, Callback\n",
        "\n",
        "#early stopping\n",
        "callback = EarlyStopping(monitor='val_accuracy', patience=4)\n",
        "\n",
        "#Callback to report time of training\n",
        "from timeit import default_timer as timer\n",
        "class TimingCallback(Callback):\n",
        "    def __init__(self, logs={}):\n",
        "        self.logs=[]\n",
        "    def on_epoch_begin(self, epoch, logs={}):\n",
        "        self.starttime = timer()\n",
        "    def on_epoch_end(self, epoch, logs={}):\n",
        "        self.logs.append(timer()-self.starttime)\n",
        "cb = TimingCallback()\n",
        "\n",
        "model.compile(\n",
        "    optimizer='adam', loss='categorical_crossentropy', metrics=['accuracy'])\n",
        "model_bn.compile(\n",
        "    optimizer='adam', loss='categorical_crossentropy', metrics=['accuracy'])\n",
        "\n",
        "history = model.fit(\n",
        "    X_train, y_train, \n",
        "    epochs=100, \n",
        "    validation_split=0.25, \n",
        "    batch_size=40, \n",
        "    callbacks=[cb],verbose=0)\n",
        "time1=sum(cb.logs)\n",
        "\n",
        "history_bn = model_bn.fit(\n",
        "    X_train, y_train, \n",
        "    epochs=100, \n",
        "    validation_split=0.25, \n",
        "    batch_size=40, \n",
        "    callbacks=[cb],verbose=0)\n",
        "time2=sum(cb.logs)\n",
        "\n",
        "\n",
        "#To compare the training time\n",
        "print(\"Total time of training sin BN:\",time1)\n",
        "print(\"Total time of training con BN:\",time2)\n",
        "\n",
        "#Plotting the history losses for the two models\n",
        "loss1 = history.history['loss']\n",
        "val_loss1 = history.history['val_loss']\n",
        "epochs1 = range(1, len(loss1)+1)\n",
        "loss2 = history_bn.history['loss']\n",
        "val_loss2 = history_bn.history['val_loss']\n",
        "epochs2 = range(1, len(loss2)+1)\n",
        "plt.plot(epochs1, loss1, 'b', label='Training sin BN',color=\"#21a376\")\n",
        "plt.plot(epochs1, val_loss1, 'bo', label='Validation sin BN',color=\"#21a376\")\n",
        "plt.plot(epochs2, loss2, 'b', label='Training con BN',color=\"#d15547\")\n",
        "plt.plot(epochs2, val_loss2, 'bo', label='Validation con BN',color=\"#d15547\")\n",
        "plt.title('Training and validation loss')\n",
        "plt.xlabel('Epochs')\n",
        "plt.ylabel('Loss')\n",
        "plt.legend()\n",
        "plt.show()\n",
        "\n",
        "print(\"Evaluación sin BN\")\n",
        "print(model.evaluate(X_test, y_test, verbose=0))\n",
        "\n",
        "print(\"Evaluación con BN\")\n",
        "print(model_bn.evaluate(X_test, y_test, verbose=0))"
      ],
      "execution_count": null,
      "outputs": [
        {
          "output_type": "stream",
          "text": [
            "Total time of training sin BN: 2.5727890329944785\n",
            "Total time of training con BN: 6.377196010989792\n"
          ],
          "name": "stdout"
        },
        {
          "output_type": "display_data",
          "data": {
            "image/png": "[encoded data removed]",
            "text/plain": [
              "<Figure size 432x288 with 1 Axes>"
            ]
          },
          "metadata": {
            "tags": []
          }
        },
        {
          "output_type": "stream",
          "text": [
            "Evaluación sin BN\n",
            "[0.21535679697990417, 0.8999999761581421]\n",
            "Evaluación con BN\n",
            "[0.20311862230300903, 0.9666666388511658]\n"
          ],
          "name": "stdout"
        }
      ]
    },
    {
      "cell_type": "markdown",
      "metadata": {
        "id": "Ur32GesRzH2U"
      },
      "source": [
        "En el gráfico de arriba se puede observar que al usar batch normalization se obtiene una mayor precisión en la predicción, sin embargo el tiempo de entrenamiento fue mayor con Batch Normalization, esto es porque usamos el mismo learning rate para ambos, sin embargo la rapidez se vería reflejada al realizar el entrenamiento con un learning rate mayor al usar BN."
      ]
    }
  ]
}