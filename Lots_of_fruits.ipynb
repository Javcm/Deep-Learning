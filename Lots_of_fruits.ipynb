{
  "nbformat": 4,
  "nbformat_minor": 0,
  "metadata": {
    "kernelspec": {
      "display_name": "Python 3",
      "language": "python",
      "name": "python3"
    },
    "language_info": {
      "codemirror_mode": {
        "name": "ipython",
        "version": 3
      },
      "file_extension": ".py",
      "mimetype": "text/x-python",
      "name": "python",
      "nbconvert_exporter": "python",
      "pygments_lexer": "ipython3",
      "version": "3.7.4"
    },
    "colab": {
      "name": "Copia de Tarea2.ipynb",
      "provenance": [],
      "collapsed_sections": [],
      "include_colab_link": true
    }
  },
  "cells": [
    {
      "cell_type": "markdown",
      "metadata": {
        "id": "view-in-github",
        "colab_type": "text"
      },
      "source": [
        "<a href=\"https://colab.research.google.com/github/Javcm/Deep-Learning/blob/main/Lots_of_fruits.ipynb\" target=\"_parent\"><img src=\"https://colab.research.google.com/assets/colab-badge.svg\" alt=\"Open In Colab\"/></a>"
      ]
    },
    {
      "cell_type": "code",
      "metadata": {
        "id": "G0U2bfd2POyD",
        "outputId": "d1508c21-2c7a-4680-8860-2f8876a3f237",
        "colab": {
          "base_uri": "https://localhost:8080/",
          "height": 34
        }
      },
      "source": [
        "import numpy as np\n",
        "import pandas as pd\n",
        "import os\n",
        "import cv2\n",
        "import glob\n",
        "import random\n",
        "import gc\n",
        "import matplotlib.pyplot as plt \n",
        "import seaborn as snb; snb.set()\n",
        "#Model Libraries\n",
        "from tensorflow.keras import Input,Model\n",
        "from tensorflow.keras.layers import Dense\n",
        "from tensorflow.keras.utils import plot_model, to_categorical\n",
        "from tensorflow.keras.callbacks import EarlyStopping, Callback\n",
        "\n",
        "#To connect with drive dolfers\n",
        "from google.colab import drive \n",
        "from google.colab import files\n",
        "drive.mount('/content/gdrive')"
      ],
      "execution_count": 1,
      "outputs": [
        {
          "output_type": "stream",
          "text": [
            "Drive already mounted at /content/gdrive; to attempt to forcibly remount, call drive.mount(\"/content/gdrive\", force_remount=True).\n"
          ],
          "name": "stdout"
        }
      ]
    },
    {
      "cell_type": "markdown",
      "metadata": {
        "id": "COicQ01vRtP6"
      },
      "source": [
        "La siguiente celda de código se utilizó para extraer las imágenes de prueba (X_train,y_train), entrenamiento (X_test,y_test) y de prueba externas al modelo (X_test_ext,y_test_ext), se observó que en Colab tarda demasiado la lectura por carpetas (más de dos  horas sin terminar), de modo que se hizo de forma local, se guardaron los numpy array, se subieron a la carpeta de drive donde se encuentran todos los datos asociados a este documento y se leyeron con Colab que tarda considerablemente menos.\n",
        "\n",
        "También se modificó el archivo clasifiacación.csv, añadiéndo la clase acosiada a cada archivo según la nomenclatura manejada aquí. \n",
        "\n",
        "No se recomienda la ejecución de esta celda, pero se deja aquí el bloque de código."
      ]
    },
    {
      "cell_type": "code",
      "metadata": {
        "id": "0jiM0CA8POyQ"
      },
      "source": [
        "#Reading the files and creating the labels for the test data set\n",
        "test_dir = \"/content/gdrive/My Drive/T2 DL/Test\"\n",
        "X_test, count_labels, i = [], [], 0\n",
        "\n",
        "for root, dirs, files in os.walk(test_dir):\n",
        "    if i==0:\n",
        "        names=dirs\n",
        "    else:\n",
        "        count_labels.append(len(files))\n",
        "    i=i+1\n",
        "    for y in glob.glob(os.path.join(root, '*.jpg')):\n",
        "        img = cv2.imread(y) \n",
        "        RGB_img = cv2.cvtColor(img, cv2.COLOR_BGR2RGB) \n",
        "        X_test.append(RGB_img) \n",
        "        \n",
        "y_test=np.repeat(np.arange(len(count_labels)),count_labels, axis=0)\n",
        "\n",
        "#Reading the files and creating the labels for the train data set\n",
        "train_dir = \"/content/gdrive/My Drive/T2 DL/Training\"\n",
        "X_train, count_labels, i = [], [], 0\n",
        "\n",
        "for root, dirs, files in os.walk(train_dir):\n",
        "    if i==0:\n",
        "        names=dirs\n",
        "    else:\n",
        "        count_labels.append(len(files))\n",
        "    i=i+1\n",
        "    for y in glob.glob(os.path.join(root, '*.jpg')):\n",
        "        img = cv2.imread(y) \n",
        "        RGB_img = cv2.cvtColor(img, cv2.COLOR_BGR2RGB) \n",
        "        X_train.append(RGB_img) \n",
        "        \n",
        "y_train=np.repeat(np.arange(len(count_labels)),count_labels, axis=0)\n",
        "\n",
        "# #To save the completes train and test data\n",
        "# X_train_all = X_train\n",
        "# X_test_all = X_test\n",
        "# y_train_all = y_train\n",
        "\n",
        "#To complete the data frame classifiacion.csv to complete the labels\n",
        "dict_names = dict(zip(names, np.arange(len(names))))\n",
        "class_test=pd.read_csv('/content/gdrive/My Drive/T2 DL/clasificacion.csv',header=None)\n",
        "aux=[]\n",
        "for i in range(len(class_test)):   \n",
        "    aux.append(dict_names[class_test[1][i]])\n",
        "class_test[\"Class\"]=aux\n",
        "class_test.columns=[\"File\",\"Fruit\",\"Class\"]\n",
        "\n",
        "#Reading the external test files and creating the labels\n",
        "test_dir = \"/content/gdrive/My Drive/T2 DL/test/\" \n",
        "test_path = os.path.join(test_dir,'*g')\n",
        "files = glob.glob(test_path)\n",
        "X_test_ext, y_test_ext = [], []\n",
        "im_m=np.zeros((np.shape(files)[0],3))\n",
        "for i,f1 in enumerate(files):\n",
        "    img = cv2.imread(f1)\n",
        "    RGB_img = cv2.cvtColor(img, cv2.COLOR_BGR2RGB)\n",
        "    #When using colab \"/\" must be used in the split, in windows use \"\\\\\" instead.\n",
        "    y_test_ext.append(class_test[class_test[\"File\"]==f1.split('/')[-1]][\"Class\"].values[0])\n",
        "    X_test_ext.append(RGB_img)\n",
        "\n",
        "#One hot encoding\n",
        "y_test=pd.get_dummies(y_test)\n",
        "y_train=pd.get_dummies(y_train)\n",
        "\n",
        "#To check if the shapes matches\n",
        "print(np.shape(X_train),np.shape(y_train),np.shape(X_test),np.shape(y_test),np.shape(X_test_ext),np.shape(y_test_ext))"
      ],
      "execution_count": null,
      "outputs": []
    },
    {
      "cell_type": "code",
      "metadata": {
        "id": "5dbN5wAuPOyY"
      },
      "source": [
        "#Reading the numpy arrays is faster for colab tha extracting the info for folders\n",
        "X_train_all = np.load('/content/gdrive/My Drive/T2 DL/X_train.npy')\n",
        "y_train_all = np.load('/content/gdrive/My Drive/T2 DL/y_train.npy')\n",
        "\n",
        "X_test_all = np.load('/content/gdrive/My Drive/T2 DL/X_test.npy')\n",
        "y_test_all = np.load('/content/gdrive/My Drive/T2 DL/y_test.npy')\n",
        "\n",
        "X_test_ext = np.load('/content/gdrive/My Drive/T2 DL/X_test_ext.npy')\n",
        "y_test_ext = np.load('/content/gdrive/My Drive/T2 DL/y_test_ext.npy')\n",
        "\n",
        "class_test=pd.read_csv('/content/gdrive/My Drive/T2 DL/clasificacion.csv')\n",
        "#To check if the shapes matches\n",
        "print(np.shape(X_train),np.shape(y_train),np.shape(X_test),np.shape(y_test),np.shape(X_test_ext),np.shape(y_test_ext))"
      ],
      "execution_count": 2,
      "outputs": []
    },
    {
      "cell_type": "code",
      "metadata": {
        "id": "vqKo1AQ_POyV",
        "outputId": "dd7a28a7-350f-4f3c-d189-6726a2073d04",
        "colab": {
          "base_uri": "https://localhost:8080/",
          "height": 34
        }
      },
      "source": [
        "# To sample the data frames, because of memory troubles\n",
        "random.seed(42)\n",
        "n_sample_train = 15000\n",
        "n_sample_test = 5000\n",
        "train_sample = random.sample(range(0, len(X_train_all)), n_sample_train)\n",
        "test_sample = random.sample(range(0, len(X_test_all)), n_sample_test)\n",
        "\n",
        "X_test=X_test_all[test_sample,:,:,:]\n",
        "del globals()[\"X_test_all\"]\n",
        "y_test=y_test_all[test_sample]\n",
        "del globals()[\"y_test_all\"]\n",
        "\n",
        "X_train=X_train_all[train_sample,:,:,:]\n",
        "del globals()[\"X_train_all\"]\n",
        "y_train=y_train_all[train_sample]\n",
        "del globals()[\"y_train_all\"]\n",
        "\n",
        "#To check if the dimention matches\n",
        "print(np.shape(X_train),np.shape(y_train),np.shape(X_test),np.shape(y_test))\n",
        "\n",
        "##To save the numpy arrays, this little trick will help us later \n",
        "#np.save('X_train_sample', X_train)\n",
        "#np.save('y_train_sample', y_train)\n",
        "#np.save('X_test_sample', X_test)\n",
        "#np.save('y_test_sample', y_test)"
      ],
      "execution_count": 3,
      "outputs": [
        {
          "output_type": "stream",
          "text": [
            "(15000, 100, 100, 3) (15000,) (5000, 100, 100, 3) (5000,)\n"
          ],
          "name": "stdout"
        }
      ]
    },
    {
      "cell_type": "code",
      "metadata": {
        "id": "i3vMZ8r4POye",
        "outputId": "764b1eeb-eabd-4508-9f08-87c07e062716",
        "colab": {
          "base_uri": "https://localhost:8080/",
          "height": 34
        }
      },
      "source": [
        "#One hot encoding\n",
        "y_test=pd.get_dummies(y_test)\n",
        "y_train=pd.get_dummies(y_train)\n",
        "\n",
        "#To check if the shapes matches\n",
        "print(np.shape(X_train),np.shape(y_train),np.shape(X_test),np.shape(y_test),np.shape(X_test_ext),np.shape(y_test_ext))"
      ],
      "execution_count": 16,
      "outputs": [
        {
          "output_type": "stream",
          "text": [
            "(15000, 100, 100, 3) (15000, 131) (5000, 100, 100, 3) (5000, 131) (743, 100, 100, 3) (743,)\n"
          ],
          "name": "stdout"
        }
      ]
    },
    {
      "cell_type": "code",
      "metadata": {
        "id": "SQLUWT0SPOyh",
        "outputId": "0c7eb075-7c26-4471-f179-19c1b87dddb9",
        "colab": {
          "base_uri": "https://localhost:8080/",
          "height": 391
        }
      },
      "source": [
        "#To clear some Memory \n",
        "gc.collect()\n",
        "\n",
        "# Neural Net of 3 \n",
        "input_shape = Input(shape = (30000,))\n",
        "x = Dense(1000, activation = \"relu\")(input_shape) \n",
        "x = Dense(1000, activation = \"relu\")(x)\n",
        "x = Dense(1000, activation = \"relu\")(x)\n",
        "x = Dense(1000, activation = \"relu\")(x) \n",
        "x = Dense(1000, activation = \"relu\")(x)\n",
        "output = Dense(131, activation =\"softmax\")(x)\n",
        "\n",
        "#se crea el modelo\n",
        "model = Model(input_shape, output)\n",
        "model.summary()\n"
      ],
      "execution_count": 19,
      "outputs": [
        {
          "output_type": "stream",
          "text": [
            "Model: \"functional_3\"\n",
            "_________________________________________________________________\n",
            "Layer (type)                 Output Shape              Param #   \n",
            "=================================================================\n",
            "input_2 (InputLayer)         [(None, 30000)]           0         \n",
            "_________________________________________________________________\n",
            "dense_6 (Dense)              (None, 1000)              30001000  \n",
            "_________________________________________________________________\n",
            "dense_7 (Dense)              (None, 1000)              1001000   \n",
            "_________________________________________________________________\n",
            "dense_8 (Dense)              (None, 1000)              1001000   \n",
            "_________________________________________________________________\n",
            "dense_9 (Dense)              (None, 1000)              1001000   \n",
            "_________________________________________________________________\n",
            "dense_10 (Dense)             (None, 1000)              1001000   \n",
            "_________________________________________________________________\n",
            "dense_11 (Dense)             (None, 131)               131131    \n",
            "=================================================================\n",
            "Total params: 34,136,131\n",
            "Trainable params: 34,136,131\n",
            "Non-trainable params: 0\n",
            "_________________________________________________________________\n"
          ],
          "name": "stdout"
        }
      ]
    },
    {
      "cell_type": "markdown",
      "metadata": {
        "id": "c5gvRhkwbBVn"
      },
      "source": [
        "\n",
        "Como se muestra arriba, el modelo consta de un capa de salida, una de entrada y 4 capas ocultas "
      ]
    },
    {
      "cell_type": "code",
      "metadata": {
        "id": "29zrMCfJPOyk",
        "outputId": "77dd16d9-ec0e-4549-b58f-2d92b0300231",
        "colab": {
          "base_uri": "https://localhost:8080/",
          "height": 763
        }
      },
      "source": [
        "#To clear some Memory \n",
        "gc.collect()\n",
        "\n",
        "\n",
        "\n",
        "#early stopping\n",
        "callback = EarlyStopping(monitor='val_accuracy', patience=3)\n",
        "\n",
        "#Callback to report time of training\n",
        "from timeit import default_timer as timer\n",
        "class TimingCallback(Callback):\n",
        "    def __init__(self, logs={}):\n",
        "        self.logs=[]\n",
        "    def on_epoch_begin(self, epoch, logs={}):\n",
        "        self.starttime = timer()\n",
        "    def on_epoch_end(self, epoch, logs={}):\n",
        "        self.logs.append(timer()-self.starttime)\n",
        "cb = TimingCallback()\n",
        "\n",
        "\n",
        "#First training is made with Adam optimizer\n",
        "model1=model\n",
        "model1.compile(optimizer='Adam', loss='categorical_crossentropy', metrics=['accuracy'])\n",
        "history = model1.fit(X_train.reshape(len(X_train), 30000)/255, y_train, batch_size=64, epochs=50,\n",
        "                    validation_data=(X_test.reshape(len(X_test), 30000)/255, y_test),callbacks=[callback,cb],verbose=1)\n",
        "time1=sum(cb.logs)\n",
        "\n",
        "#To clear some Memory \n",
        "gc.collect()\n",
        "\n",
        "#Second training is made with SGD optimizer\n",
        "model2=model\n",
        "model2.compile(optimizer='SGD', loss='categorical_crossentropy', metrics=['accuracy'])\n",
        "history2 = model2.fit(X_train.reshape(len(X_train), 30000)/255, y_train, batch_size=64, epochs=50,\n",
        "                    validation_data=(X_test.reshape(len(X_test), 30000)/255, y_test),callbacks=[callback,cb],verbose=1)\n",
        "\n",
        "\n",
        "#To compare the training time\n",
        "print(\"Total time of training Adam:\",time1)\n",
        "print(\"Total time of training SGD:\",sum(cb.logs))\n",
        "\n",
        "#Plotting the history losses\n",
        "loss1,val_loss1 = history.history['loss'], history.history['val_loss']\n",
        "epochs1 = range(1, len(loss1)+1)\n",
        "loss2,val_loss2 = history2.history['loss'], history2.history['val_loss']\n",
        "epochs2 = range(1, len(loss2)+1)\n",
        "plt.plot(epochs1, loss1, 'b', label='Training_Adam',color=\"#21a376\")\n",
        "plt.plot(epochs1, val_loss1, 'bo', label='Validation_Adam',color=\"#21a376\")\n",
        "plt.plot(epochs2, loss2, 'b', label='Training_SGD',color=\"#d15547\")\n",
        "plt.plot(epochs2, val_loss2, 'bo', label='Validation_SGD',color=\"#d15547\")\n",
        "plt.title('Training and validation loss')\n",
        "plt.xlabel('Epochs')\n",
        "plt.ylabel('Loss')\n",
        "plt.legend(loc=\"best\")\n",
        "plt.show()\n",
        "\n",
        "weights1=np.array(model1.get_weights())\n",
        "weights2=np.array(model2.get_weights())\n",
        "np.save('weights1', weights1)\n",
        "np.save('weights2', weights2)"
      ],
      "execution_count": 20,
      "outputs": [
        {
          "output_type": "stream",
          "text": [
            "Epoch 1/50\n",
            "235/235 [==============================] - 59s 253ms/step - loss: 4.0380 - accuracy: 0.0979 - val_loss: 3.6372 - val_accuracy: 0.1122\n",
            "Epoch 2/50\n",
            "235/235 [==============================] - 59s 250ms/step - loss: 2.3495 - accuracy: 0.3457 - val_loss: 2.4429 - val_accuracy: 0.3634\n",
            "Epoch 3/50\n",
            "235/235 [==============================] - 59s 251ms/step - loss: 1.5142 - accuracy: 0.5553 - val_loss: 1.8408 - val_accuracy: 0.4874\n",
            "Epoch 4/50\n",
            "235/235 [==============================] - 59s 251ms/step - loss: 1.0054 - accuracy: 0.7090 - val_loss: 1.7727 - val_accuracy: 0.5328\n",
            "Epoch 5/50\n",
            "235/235 [==============================] - 59s 251ms/step - loss: 0.7141 - accuracy: 0.7918 - val_loss: 1.3788 - val_accuracy: 0.6280\n",
            "Epoch 6/50\n",
            "235/235 [==============================] - 59s 250ms/step - loss: 0.5568 - accuracy: 0.8523 - val_loss: 1.2080 - val_accuracy: 0.6564\n",
            "Epoch 7/50\n",
            "235/235 [==============================] - 59s 250ms/step - loss: 0.3847 - accuracy: 0.8965 - val_loss: 1.3262 - val_accuracy: 0.6132\n",
            "Epoch 8/50\n",
            "235/235 [==============================] - 59s 251ms/step - loss: 0.2979 - accuracy: 0.9251 - val_loss: 0.8391 - val_accuracy: 0.7652\n",
            "Epoch 9/50\n",
            "235/235 [==============================] - 59s 250ms/step - loss: 0.1468 - accuracy: 0.9602 - val_loss: 0.4937 - val_accuracy: 0.8728\n",
            "Epoch 10/50\n",
            "235/235 [==============================] - 59s 251ms/step - loss: 0.2139 - accuracy: 0.9560 - val_loss: 0.5024 - val_accuracy: 0.8648\n",
            "Epoch 11/50\n",
            "235/235 [==============================] - 59s 251ms/step - loss: 0.0953 - accuracy: 0.9761 - val_loss: 0.5580 - val_accuracy: 0.8500\n",
            "Epoch 12/50\n",
            "235/235 [==============================] - 59s 251ms/step - loss: 0.2259 - accuracy: 0.9564 - val_loss: 0.7899 - val_accuracy: 0.7722\n",
            "Total time of training Adam: 780.4776292869983\n",
            "Total time of training SGD: 710.4878595089976\n"
          ],
          "name": "stdout"
        },
        {
          "output_type": "display_data",
          "data": {
            "image/png": "[encoded data removed]",
            "text/plain": [
              "<Figure size 432x288 with 1 Axes>"
            ]
          },
          "metadata": {
            "tags": [],
            "needs_background": "light"
          }
        }
      ]
    },
    {
      "cell_type": "code",
      "metadata": {
        "id": "mnfwlScQa9Hj"
      },
      "source": [
        ""
      ],
      "execution_count": null,
      "outputs": []
    }
  ]
}