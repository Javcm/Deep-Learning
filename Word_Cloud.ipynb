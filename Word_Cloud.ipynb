{
  "nbformat": 4,
  "nbformat_minor": 0,
  "metadata": {
    "colab": {
      "name": "Word_Cloud.ipynb",
      "provenance": [],
      "authorship_tag": "ABX9TyN5TVfhLKNbuod8UOmeYHAc",
      "include_colab_link": true
    },
    "kernelspec": {
      "name": "python3",
      "display_name": "Python 3"
    }
  },
  "cells": [
    {
      "cell_type": "markdown",
      "metadata": {
        "id": "view-in-github",
        "colab_type": "text"
      },
      "source": [
        "<a href=\"https://colab.research.google.com/github/Javcm/Deep-Learning/blob/main/Word_Cloud.ipynb\" target=\"_parent\"><img src=\"https://colab.research.google.com/assets/colab-badge.svg\" alt=\"Open In Colab\"/></a>"
      ]
    },
    {
      "cell_type": "code",
      "metadata": {
        "id": "iugeQKRDw4-b"
      },
      "source": [
        "import numpy as np\n",
        "from google.colab import drive \n",
        "import pandas as pd\n",
        "import seaborn as snb; snb.set()\n",
        "import re\n",
        "drive.mount('/content/gdrive')\n",
        "\n",
        "#Block of code to make a word cloud of the tweets\n",
        "\n",
        "#pip install wordcloud\n",
        "from wordcloud import WordCloud, STOPWORDS \n",
        "import matplotlib.pyplot as plt \n",
        "\n",
        "df = pd.read_csv('/content/gdrive/My Drive/T4 DL/@lopezobrador__tweets.csv')[\"text\"]\n",
        "df = df.apply(lambda x: re.sub(r'http\\S+', '',x))\n",
        "df = df.apply(lambda x: re.sub(r'el ', '',x))\n",
        "df = df.apply(lambda x: re.sub(r'de ', '',x))\n",
        "df = df.apply(lambda x: re.sub(r'la ', '',x))\n",
        "df = df.apply(lambda x: re.sub(r'en ', '',x))\n",
        "df = df.apply(lambda x: re.sub(r'al ', '',x))\n",
        "df = df.apply(lambda x: re.sub(r'del ', '',x))\n",
        "df = df.apply(lambda x: re.sub(r'que ', '',x))\n",
        "df = df.apply(lambda x: re.sub(r'lo ', '',x))\n",
        "df = df.apply(lambda x: re.sub(r'que ', '',x))\n",
        "df = df.apply(lambda x: re.sub(r'con ', '',x))\n",
        "df = df.apply(lambda x: re.sub(r'se ', '',x))\n",
        "df = df.apply(lambda x: re.sub(r'es ', '',x))\n",
        "df = df.apply(lambda x: re.sub(r'por ', '',x))\n",
        "df = df.apply(lambda x: re.sub(r'un ', '',x))\n",
        "df = df.apply(lambda x: re.sub(r'en ', '',x))\n",
        "df = df.apply(lambda x: re.sub(r'su ', '',x))\n",
        "df = df.apply(lambda x: re.sub(r'para ', '',x))\n",
        "df = df.apply(lambda x: re.sub(r'como ', '',x))\n",
        "df = df.apply(lambda x: re.sub(r'Lo ', '',x))\n",
        "df = df.apply(lambda x: re.sub(r'La ', '',x))\n",
        "df = df.apply(lambda x: re.sub(r'En ', '',x))\n",
        "df = df.apply(lambda x: re.sub(r'los ', '',x))\n",
        "df = df.apply(lambda x: re.sub(r'Los ', '',x))\n",
        "df = df.apply(lambda x: re.sub(r' la', '',x))\n",
        "\n",
        "print(\"no soy yo\")\n",
        "comment_words = '' \n",
        "stopwords = set(STOPWORDS) \n",
        "  \n",
        "# iterate through the csv file \n",
        "for val in df: \n",
        "      \n",
        "    # typecaste each val to string \n",
        "    val = str(val) \n",
        "  \n",
        "    # split the value \n",
        "    tokens = val.split() \n",
        "      \n",
        "    # Converts each token into lowercase \n",
        "    for i in range(len(tokens)): \n",
        "        tokens[i] = tokens[i].lower() \n",
        "      \n",
        "    comment_words += \" \".join(tokens)+\" \"\n",
        "  \n",
        "wordcloud = WordCloud(width = 800, height = 800, \n",
        "                background_color ='white', \n",
        "                stopwords = stopwords, \n",
        "                min_font_size = 10).generate(comment_words) \n",
        "  \n",
        "# plot the WordCloud image                        \n",
        "plt.figure(figsize = (8, 8), facecolor = None) \n",
        "plt.imshow(wordcloud) \n",
        "plt.axis(\"off\") \n",
        "plt.tight_layout(pad = 0) \n",
        "  \n",
        "plt.show() "
      ],
      "execution_count": null,
      "outputs": []
    }
  ]
}